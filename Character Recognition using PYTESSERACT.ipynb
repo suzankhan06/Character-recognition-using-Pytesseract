{
 "cells": [
  {
   "cell_type": "code",
   "execution_count": 20,
   "id": "d879ed34",
   "metadata": {},
   "outputs": [],
   "source": [
    "import pytesseract\n",
    "pytesseract.pytesseract.tesseract_cmd = r'C:\\\\Program Files\\\\Tesseract-OCR\\\\tesseract.exe'"
   ]
  },
  {
   "cell_type": "code",
   "execution_count": 21,
   "id": "c4ae032b",
   "metadata": {},
   "outputs": [],
   "source": [
    "import cv2"
   ]
  },
  {
   "cell_type": "code",
   "execution_count": 28,
   "id": "26af4bce",
   "metadata": {},
   "outputs": [
    {
     "ename": "TypeError",
     "evalue": "Argument 'flags' is required to be an integer",
     "output_type": "error",
     "traceback": [
      "\u001b[1;31m---------------------------------------------------------------------------\u001b[0m",
      "\u001b[1;31mTypeError\u001b[0m                                 Traceback (most recent call last)",
      "\u001b[1;32m~\\AppData\\Local\\Temp\\ipykernel_19108\\2720567887.py\u001b[0m in \u001b[0;36m<module>\u001b[1;34m\u001b[0m\n\u001b[1;32m----> 1\u001b[1;33m \u001b[0mimg\u001b[0m\u001b[1;33m=\u001b[0m\u001b[0mcv2\u001b[0m\u001b[1;33m.\u001b[0m\u001b[0mimread\u001b[0m\u001b[1;33m(\u001b[0m\u001b[1;34mr'C:\\Users\\suzan\\Desktop\\PANDA\\1.jpg'\u001b[0m\u001b[1;33m,\u001b[0m\u001b[1;34mr'C:\\Users\\suzan\\Desktop\\PANDA\\2.jpg'\u001b[0m\u001b[1;33m)\u001b[0m\u001b[1;33m\u001b[0m\u001b[1;33m\u001b[0m\u001b[0m\n\u001b[0m\u001b[0;32m      2\u001b[0m \u001b[0mcv2\u001b[0m\u001b[1;33m.\u001b[0m\u001b[0mimshow\u001b[0m\u001b[1;33m(\u001b[0m\u001b[1;34m'sample image'\u001b[0m\u001b[1;33m,\u001b[0m \u001b[0mimg\u001b[0m\u001b[1;33m)\u001b[0m\u001b[1;33m\u001b[0m\u001b[1;33m\u001b[0m\u001b[0m\n\u001b[0;32m      3\u001b[0m \u001b[0mcv2\u001b[0m\u001b[1;33m.\u001b[0m\u001b[0mwaitKey\u001b[0m\u001b[1;33m(\u001b[0m\u001b[1;36m0\u001b[0m\u001b[1;33m)\u001b[0m\u001b[1;33m\u001b[0m\u001b[1;33m\u001b[0m\u001b[0m\n\u001b[0;32m      4\u001b[0m \u001b[0mcv2\u001b[0m\u001b[1;33m.\u001b[0m\u001b[0mdestroyAllWindows\u001b[0m\u001b[1;33m(\u001b[0m\u001b[1;33m)\u001b[0m\u001b[1;33m\u001b[0m\u001b[1;33m\u001b[0m\u001b[0m\n",
      "\u001b[1;31mTypeError\u001b[0m: Argument 'flags' is required to be an integer"
     ]
    }
   ],
   "source": [
    "img=cv2.imread(r'C:\\Users\\suzan\\Desktop\\PANDA\\1.jpg')\n",
    "cv2.imshow('sample image', img)\n",
    "cv2.waitKey(0)\n",
    "cv2.destroyAllWindows()"
   ]
  },
  {
   "cell_type": "code",
   "execution_count": 23,
   "id": "a4b4e887",
   "metadata": {},
   "outputs": [
    {
     "name": "stdout",
     "output_type": "stream",
     "text": [
      "[[[  4   7  11]\n",
      "  [  4   7  11]\n",
      "  [  4   7  12]\n",
      "  ...\n",
      "  [  2   5  10]\n",
      "  [  0   1   6]\n",
      "  [  4   7  12]]\n",
      "\n",
      " [[  4   7  11]\n",
      "  [  4   7  11]\n",
      "  [  4   7  12]\n",
      "  ...\n",
      "  [  9  12  17]\n",
      "  [ 10  13  18]\n",
      "  [ 10  13  18]]\n",
      "\n",
      " [[  4   7  12]\n",
      "  [  4   7  12]\n",
      "  [  4   7  12]\n",
      "  ...\n",
      "  [ 12  15  20]\n",
      "  [ 15  18  23]\n",
      "  [ 14  17  22]]\n",
      "\n",
      " ...\n",
      "\n",
      " [[104 110 115]\n",
      "  [104 110 115]\n",
      "  [105 111 116]\n",
      "  ...\n",
      "  [ 87  91  96]\n",
      "  [ 87  91  96]\n",
      "  [ 85  87  95]]\n",
      "\n",
      " [[100 106 111]\n",
      "  [101 107 112]\n",
      "  [103 109 114]\n",
      "  ...\n",
      "  [ 86  90  95]\n",
      "  [ 86  90  95]\n",
      "  [ 84  86  94]]\n",
      "\n",
      " [[ 96 102 107]\n",
      "  [ 98 104 109]\n",
      "  [101 107 112]\n",
      "  ...\n",
      "  [ 86  90  95]\n",
      "  [ 86  90  95]\n",
      "  [ 85  84  93]]]\n"
     ]
    }
   ],
   "source": [
    "text=pytesseract.image_to_data(img)\n",
    "print(img)"
   ]
  },
  {
   "cell_type": "code",
   "execution_count": 24,
   "id": "6b214613",
   "metadata": {},
   "outputs": [
    {
     "data": {
      "text/plain": [
       "(1600, 1201, 3)"
      ]
     },
     "execution_count": 24,
     "metadata": {},
     "output_type": "execute_result"
    }
   ],
   "source": [
    "img.shape"
   ]
  },
  {
   "cell_type": "code",
   "execution_count": 1,
   "id": "562b8a9b",
   "metadata": {},
   "outputs": [],
   "source": [
    "import numpy as np\n",
    "import pandas as pd\n",
    "#img.to_csv('sample1.csv')"
   ]
  },
  {
   "cell_type": "code",
   "execution_count": 8,
   "id": "04558448",
   "metadata": {},
   "outputs": [
    {
     "name": "stdout",
     "output_type": "stream",
     "text": [
      "['eng', 'osd']\n"
     ]
    }
   ],
   "source": [
    "#print(pytesseract.get_languages(config=''))\n",
    "print(pytesseract.get_languages())"
   ]
  },
  {
   "cell_type": "code",
   "execution_count": 26,
   "id": "01bbeda1",
   "metadata": {},
   "outputs": [],
   "source": [
    "output = pytesseract.image_to_data(img)\n",
    "with open('test.csv','w') as f: \n",
    "    f.write(output) "
   ]
  },
  {
   "cell_type": "code",
   "execution_count": null,
   "id": "0f5b6188",
   "metadata": {
    "scrolled": true
   },
   "outputs": [],
   "source": []
  },
  {
   "cell_type": "code",
   "execution_count": null,
   "id": "01e7e39b",
   "metadata": {},
   "outputs": [],
   "source": []
  }
 ],
 "metadata": {
  "kernelspec": {
   "display_name": "tensroflow_env",
   "language": "python",
   "name": "tensroflow_env"
  },
  "language_info": {
   "codemirror_mode": {
    "name": "ipython",
    "version": 3
   },
   "file_extension": ".py",
   "mimetype": "text/x-python",
   "name": "python",
   "nbconvert_exporter": "python",
   "pygments_lexer": "ipython3",
   "version": "3.10.8"
  }
 },
 "nbformat": 4,
 "nbformat_minor": 5
}
